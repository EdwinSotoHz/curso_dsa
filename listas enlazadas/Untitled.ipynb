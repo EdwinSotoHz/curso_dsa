{
 "cells": [
  {
   "cell_type": "markdown",
   "id": "6a79ca8c-891e-44a9-a136-4fbca446bebf",
   "metadata": {},
   "source": [
    "Hola, soy Edwin Salvador Soto Hernández, estudiante de Ingeniería en Tecnologías de la Información y Comunicaciones, y en este video se hablará sobre la **implementación y uso de la clase `LinkedList`**.  \n",
    "\n",
    "### Creación de la Clase `LinkedList`  \n",
    "La clase `LinkedList` requiere un constructor `__init__`. Este constructor permite inicializar la lista enlazada con un nodo principal o dejarla vacía.  \n",
    "- Si se proporciona un valor inicial, se crea un nodo principal llamado `head_node` utilizando la clase `Node`.  \n",
    "- Si no se proporciona un valor, el `head_node` se establece en `None`.  \n",
    "\n",
    "### Obtener el Nodo Principal  \n",
    "El método `get_head_node()` permite acceder al primer nodo de la lista y desde ahí recorrer el resto de los elementos.  \n",
    "\n",
    "### Insertar un Nodo al Inicio  \n",
    "El método `insert_beginning(new_value)` permite insertar un nuevo nodo al inicio de la lista enlazada.  \n",
    "- Primero, se crea un nuevo nodo con el valor proporcionado.  \n",
    "- Después, el nuevo nodo se enlaza para que apunte al nodo principal actual.  \n",
    "- Finalmente, el nodo principal se actualiza para que sea el nuevo nodo insertado.  \n",
    "\n",
    "### Representar la Lista como una Cadena  \n",
    "El método `stringify_list()` genera una representación en forma de cadena de la lista enlazada.  \n",
    "- Se construye la cadena comenzando desde el nodo principal.  \n",
    "- Se recorren todos los nodos, concatenando sus valores en el formato `valor1 -> valor2 -> valor3`.  \n",
    "- Al final, se obtiene una cadena con los valores separados por \"->\", que representa la estructura de la lista enlazada.  \n",
    "\n",
    "### Eliminar un Nodo por su Valor  \n",
    "El método `remove_node(value_to_remove)` elimina un nodo que contiene el valor especificado.  \n",
    "- Si el valor se encuentra en el nodo principal, el nodo principal se actualiza al siguiente nodo.  \n",
    "- Si el valor está en otro nodo, se ajustan los enlaces para que el nodo anterior apunte al nodo siguiente del nodo a eliminar.  \n",
    "- Si no se encuentra el valor, no se realizan cambios.  \n",
    "\n",
    "### Intercambiar Nodos por sus Valores  \n",
    "El método `swap_nodes(val1, val2)` permite intercambiar dos nodos de la lista enlazada.  \n",
    "- Primero, se verifica que los valores no sean iguales; si lo son, no se realiza ninguna acción.  \n",
    "- Luego, se buscan los nodos que contienen los valores `val1` y `val2`, junto con sus nodos previos.  \n",
    "- Si alguno de los valores no se encuentra, no se realiza el intercambio.  \n",
    "- Si ambos valores están presentes, se ajustan los enlaces de los nodos previos y los nodos involucrados para completar el intercambio.  \n",
    "\n",
    "### Uso de la Clase `LinkedList`  \n",
    "En el archivo `LinkedList_ejercicio.py` se demuestra cómo usar la clase `LinkedList`.  \n",
    "- Primero, se crea una instancia de `LinkedList` con un valor inicial.  \n",
    "- Después, se insertan nodos al inicio de la lista.  \n",
    "- Posteriormente, se imprime la lista como una cadena utilizando el método `stringify_list()`.  \n",
    "- Se eliminan nodos por su valor utilizando el método `remove_node()`.  \n",
    "- Se intercambian nodos con el método `swap_nodes()`.  \n",
    "- Finalmente, se obtiene el nodo principal con el método `get_head_node()`.  \n",
    "---  "
   ]
  }
 ],
 "metadata": {
  "kernelspec": {
   "display_name": "Python 3 (ipykernel)",
   "language": "python",
   "name": "python3"
  },
  "language_info": {
   "codemirror_mode": {
    "name": "ipython",
    "version": 3
   },
   "file_extension": ".py",
   "mimetype": "text/x-python",
   "name": "python",
   "nbconvert_exporter": "python",
   "pygments_lexer": "ipython3",
   "version": "3.12.7"
  }
 },
 "nbformat": 4,
 "nbformat_minor": 5
}
