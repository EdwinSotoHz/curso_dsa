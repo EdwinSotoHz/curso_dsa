{
 "cells": [
  {
   "cell_type": "markdown",
   "id": "3f1b4deb-9e3a-4b4b-aa2e-6a515d3ac7fc",
   "metadata": {},
   "source": [
    "# Implementación y uso de la Clase LinkedList\n",
    "\n",
    "## 1. Creación de la Clase `LinkedList`\n",
    "\n",
    "Para iniciar se define una clase `LinkedList` para representar listas enlazadas simples. \n",
    "\n",
    "### Constructor (`__init__`)\n",
    "- Se inicializa con un parámetro opcional `value`.\n",
    "  - Si `value` no es `None`, se crea un nodo inicial (`head_node`) utilizando la clase `Node`.\n",
    "  - Si `value` es `None`, el `head_node` se establece como `None`."
   ]
  },
  {
   "cell_type": "code",
   "execution_count": 1,
   "id": "b478de11-30ee-43fc-96a8-2a98dc65ab75",
   "metadata": {},
   "outputs": [],
   "source": [
    "class LinkedList:\n",
    "    def __init__(self, value=None):\n",
    "        if value is not None:\n",
    "            self.head_node = Node(value)\n",
    "        else:\n",
    "            self.head_node = None"
   ]
  },
  {
   "cell_type": "markdown",
   "id": "0670b513-06f9-44f6-95bc-6c7014c184ae",
   "metadata": {},
   "source": [
    "## 2. Obtener el Nodo Principal\n",
    "\n",
    "### Método `get_head_node()`\n",
    "- Devuelve el nodo principal de la lista (`head_node`).\n",
    "- Útil para acceder al primer nodo en la lista enlazada."
   ]
  },
  {
   "cell_type": "code",
   "execution_count": 8,
   "id": "29dca72d-c2a3-425d-93e7-8b578b9a1645",
   "metadata": {},
   "outputs": [],
   "source": [
    "    def get_head_node(self):\n",
    "        return self.head_node"
   ]
  },
  {
   "cell_type": "markdown",
   "id": "f975776d-ee67-45dd-a37a-6455e8abac29",
   "metadata": {},
   "source": [
    "<center>\n",
    "<img src=\"./img/features.jpeg\" width=\"600\"></img>\n",
    "</center>\n",
    "<br>"
   ]
  },
  {
   "cell_type": "markdown",
   "id": "f7293a50-dbfc-4eba-b53f-1c5bd4d35316",
   "metadata": {},
   "source": [
    "## 3. Insertar un Nodo al Inicio\n",
    "\n",
    "### Método `insert_beginning(new_value)`\n",
    "1. Crea un nuevo nodo con el valor proporcionado (`new_value`).\n",
    "2. Ajusta el siguiente nodo del nuevo nodo para que apunte al nodo principal actual.\n",
    "3. Actualiza el nodo principal para que sea el nuevo nodo."
   ]
  },
  {
   "cell_type": "code",
   "execution_count": 3,
   "id": "8c166fc7-53c9-40f4-8dcc-f160f73d00c1",
   "metadata": {},
   "outputs": [],
   "source": [
    "    def insert_beginning(self, new_value):\n",
    "        new_node = Node(new_value)\n",
    "        new_node.set_next_node(self.head_node)\n",
    "        self.head_node = new_node"
   ]
  },
  {
   "cell_type": "markdown",
   "id": "48e54997-d291-438c-a471-c5a8c2d06ae2",
   "metadata": {},
   "source": [
    "<center>\n",
    "<img src=\"./img/insert_beginning.jpeg\" width=\"600\"></img>\n",
    "</center>\n",
    "<br>"
   ]
  },
  {
   "cell_type": "markdown",
   "id": "90b2d4a6-5266-4276-93ff-588c2e5614a1",
   "metadata": {},
   "source": [
    "## 4. Representar la Lista como una Cadena\n",
    "\n",
    "### Método `stringify_list()`\n",
    "1. Construye una representación en cadena de la lista enlazada.\n",
    "2. Comienza desde el nodo principal y recorre la lista concatenando los valores.\n",
    "3. Devuelve una cadena con los valores separados por \"->\"."
   ]
  },
  {
   "cell_type": "code",
   "execution_count": 4,
   "id": "42897937-1390-4974-aa9e-4be7aa7f402e",
   "metadata": {},
   "outputs": [],
   "source": [
    "    def stringify_list(self):\n",
    "        string_list = \"\"\n",
    "        current_node = self.head_node\n",
    "        while current_node:\n",
    "            string_list += str(current_node.get_value()) + \"->\"\n",
    "            current_node = current_node.get_next_node()\n",
    "        return string_list.rstrip(\"->\")"
   ]
  },
  {
   "cell_type": "markdown",
   "id": "b0e5a736-e04a-46ee-82ef-95bbfc6c47e1",
   "metadata": {},
   "source": [
    "<center>\n",
    "<img src=\"./img/stringify_list2.jpg\" width=\"650\"></img>\n",
    "</center>\n",
    "<br>"
   ]
  },
  {
   "cell_type": "markdown",
   "id": "8f2937a0-a805-4b68-8977-03e0d7d4ac42",
   "metadata": {},
   "source": [
    "## 5. Eliminar un Nodo por su Valor\n",
    "\n",
    "### Método `remove_node(value_to_remove)`\n",
    "1. Busca el nodo que contiene `value_to_remove`.\n",
    "2. Si el nodo principal contiene el valor:\n",
    "   - Actualiza el nodo principal al siguiente nodo.\n",
    "3. Si otro nodo contiene el valor:\n",
    "   - Ajusta el nodo anterior para apuntar al nodo siguiente del nodo a eliminar.\n",
    "4. Si no se encuentra el valor, no realiza cambios."
   ]
  },
  {
   "cell_type": "code",
   "execution_count": 5,
   "id": "6ef5da52-0d70-47ef-8488-e58085a3718a",
   "metadata": {},
   "outputs": [],
   "source": [
    "    def remove_node(self, value_to_remove):\n",
    "        current_node = self.head_node\n",
    "        \n",
    "        if current_node.get_value() == value_to_remove:\n",
    "            self.head_node = current_node.get_next_node()\n",
    "            current_node = None \n",
    "        else:\n",
    "            while current_node is not None:\n",
    "                next_node = current_node.get_next_node()\n",
    "                if next_node is not None and next_node.get_value() == value_to_remove:\n",
    "                    current_node.set_next_node(next_node.get_next_node())\n",
    "                    next_node = None \n",
    "                    break  \n",
    "                current_node = next_node"
   ]
  },
  {
   "cell_type": "markdown",
   "id": "91d16bd8-fe20-4077-9d75-00641471eaf7",
   "metadata": {},
   "source": [
    "<center>\n",
    "<img src=\"./img/remove_node.jpeg\" width=\"780\"></img>\n",
    "</center>\n",
    "<br>"
   ]
  },
  {
   "cell_type": "markdown",
   "id": "ab3259fa-c8ba-477a-874b-b5e40d068b3c",
   "metadata": {},
   "source": [
    "## 6. Intercambiar Nodos por sus Valores\n",
    "\n",
    "### Método `swap_nodes(val1, val2)`\n",
    "1. Verifica que los valores no sean iguales. Si lo son, termina la ejecución.\n",
    "2. Busca los nodos que contienen `val1` y `val2`, junto con sus nodos previos.\n",
    "3. Si alguno de los valores no se encuentra, muestra un mensaje y no realiza el intercambio.\n",
    "4. Si ambos valores se encuentran:\n",
    "   - Ajusta los enlaces de los nodos previos para apuntar a los nodos intercambiados.\n",
    "   - Ajusta los enlaces de los nodos involucrados en el intercambio."
   ]
  },
  {
   "cell_type": "code",
   "execution_count": 6,
   "id": "03791716-f714-467a-b54c-98ca8b60875b",
   "metadata": {},
   "outputs": [],
   "source": [
    "    def swap_nodes(self, val1, val2):\n",
    "        if val1 == val2:\n",
    "            print('Los elementos son iguales por lo que no es necesario intercambiarlos')\n",
    "            return None\n",
    "        \n",
    "        node1 = self.get_head_node()\n",
    "        node2 = self.get_head_node()\n",
    "        node1_prev = None\n",
    "        node2_prev = None\n",
    "    \n",
    "        while node1 is not None:\n",
    "            if node1.get_value() == val1:\n",
    "                break\n",
    "            node1_prev = node1\n",
    "            node1 = node1.get_next_node()\n",
    "    \n",
    "        while node2 is not None:\n",
    "            if node2.get_value() == val2:\n",
    "                break\n",
    "            node2_prev = node2\n",
    "            node2 = node2.get_next_node()\n",
    "    \n",
    "        if(node1 is None or node2 is None):\n",
    "            print('No es posible realizar el intercambio: uno o más elementos no están en la lista')\n",
    "            return None\n",
    "        \n",
    "        if (node1_prev == None):\n",
    "            self.head_node = node2\n",
    "        else:\n",
    "            node1_prev.set_next_node(node2)\n",
    "    \n",
    "        if (node2_prev == None):\n",
    "            self.head_node = node1\n",
    "        else:\n",
    "            node2_prev.set_next_node(node1)\n",
    "    \n",
    "        temp = node1.get_next_node()\n",
    "        node1.set_next_node(node2.get_next_node())\n",
    "        node2.set_next_node(temp)"
   ]
  },
  {
   "cell_type": "markdown",
   "id": "4061d1df-30ce-4c82-a042-b057143aef86",
   "metadata": {},
   "source": [
    "<center>\n",
    "<img src=\"./img/swap_nodes.jpeg\" width=\"950\"></img>\n",
    "</center>\n",
    "<br>"
   ]
  },
  {
   "cell_type": "markdown",
   "id": "f4c62398-7df7-44ff-9c1e-beaf4e4366df",
   "metadata": {},
   "source": [
    "## 7. Uso de la Clase `LinkedList`\n",
    "\n",
    "En este ejemplo se utiliza la clase `LinkedList` para crear y manipular una lista enlazada simple.\n",
    "\n",
    "1. Crear una instancia de LinkedList con un valor inicial.\n",
    "2. Insertar nodos al inicio.\n",
    "3. Imprimir la lista como una cadena.\n",
    "4. Eliminar un nodo.\n",
    "5. Intercambiar nodos.\n",
    "6. Obtener el nodo `head_node`"
   ]
  },
  {
   "cell_type": "code",
   "execution_count": 7,
   "id": "943d8090-98cd-4ae3-9961-52f2023c30a6",
   "metadata": {},
   "outputs": [
    {
     "name": "stdout",
     "output_type": "stream",
     "text": [
      "Lista creada con valor inicial (5) \n",
      "\n",
      "Nodo agregado (4)\n",
      "Nodo agregado (3)\n",
      "Nodo agregado (2)\n",
      "Nodo agregado (1) \n",
      "\n",
      "Lista original: 1->2->3->4->5\n",
      "\n",
      "Eliminar nodo con valor 5: 1->2->3->4\n",
      "\n",
      "Intercambiar nodos con los valores 3 y 1: 3->2->1->4\n",
      "\n",
      "Valor del nodo en la cabeza: 3\n",
      "\n"
     ]
    }
   ],
   "source": [
    "from Node_sandbox import Node\n",
    "from LL import LinkedList\n",
    "\n",
    "# Paso 1\n",
    "lista = LinkedList(5)\n",
    "print(\"Lista creada con valor inicial (5) \\n\")\n",
    "\n",
    "# Paso 2\n",
    "lista.insert_beginning(4)\n",
    "print(\"Nodo agregado (4)\")\n",
    "lista.insert_beginning(3)\n",
    "print(\"Nodo agregado (3)\")\n",
    "lista.insert_beginning(2)\n",
    "print(\"Nodo agregado (2)\")\n",
    "lista.insert_beginning(1)\n",
    "print(\"Nodo agregado (1) \\n\")\n",
    "\n",
    "# Paso 3\n",
    "print(\"Lista original: \" + lista.stringify_list() + \"\\n\")  # Salida: \"3->2->1\"\n",
    "\n",
    "# Paso 4\n",
    "lista.remove_node(5)\n",
    "print(\"Eliminar nodo con valor 5: \" + lista.stringify_list() + \"\\n\")  # Salida: \"3->1\"\n",
    "\n",
    "# Paso 5\n",
    "lista.swap_nodes(3, 1)\n",
    "print(\"Intercambiar nodos con los valores 3 y 1: \" + lista.stringify_list() + \"\\n\")  # Salida: \"1->3\"\n",
    "\n",
    "# Paso 6\n",
    "\n",
    "print(\"Valor del nodo en la cabeza: \" + str(lista.get_head_node().get_value()) + \"\\n\")  # Salida: \"1->3\""
   ]
  }
 ],
 "metadata": {
  "kernelspec": {
   "display_name": "Python 3 (ipykernel)",
   "language": "python",
   "name": "python3"
  },
  "language_info": {
   "codemirror_mode": {
    "name": "ipython",
    "version": 3
   },
   "file_extension": ".py",
   "mimetype": "text/x-python",
   "name": "python",
   "nbconvert_exporter": "python",
   "pygments_lexer": "ipython3",
   "version": "3.12.7"
  }
 },
 "nbformat": 4,
 "nbformat_minor": 5
}
