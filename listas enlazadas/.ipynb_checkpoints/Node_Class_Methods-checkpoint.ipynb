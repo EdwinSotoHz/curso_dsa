{
 "cells": [
  {
   "cell_type": "markdown",
   "id": "e30016b0-e159-44d7-9036-bcb20a8f6f17",
   "metadata": {},
   "source": [
    "# Implementación y Uso de la Clase Node\n"
   ]
  },
  {
   "cell_type": "markdown",
   "id": "bdeaf29c-d639-46ae-b6ee-e707e6d63e75",
   "metadata": {},
   "source": [
    "## 1. Creación de la Clase `Node`\n",
    "\n",
    "En el archivo `Node_sandbox.py`\n",
    "\n",
    "Declaramos una clase llamada `Node` que representará los nodos en una estructura de datos.\n",
    "Definimos el método `__init__()`:\n",
    "- Este método se llama al crear una nueva instancia de Node.\n",
    "- Acepta dos parámetros:\n",
    "  - `value`: El valor que se almacenará en el nodo.\n",
    "  - `next_node`: Una referencia al siguiente nodo. Tiene un valor predeterminado de None.\n",
    "\n",
    "Guardamos estos valores en las variables de instancia `self.value` y `self.next_node`."
   ]
  },
  {
   "cell_type": "code",
   "execution_count": 1,
   "id": "ec1182d6-df78-4681-8807-ae68daa05684",
   "metadata": {},
   "outputs": [],
   "source": [
    "class Node():\n",
    "    def __init__(self, value, next_node=None):\n",
    "        self.value = value\n",
    "        self.next_node = next_node"
   ]
  },
  {
   "cell_type": "markdown",
   "id": "1338c862-0340-4804-80d2-59a58db1c0cf",
   "metadata": {},
   "source": [
    "## 2. Agregando Getters\n",
    "\n",
    "Dos métodos adicionales se implementan para acceder a los atributos de la clase:\n",
    "- 1. `get_value()`:\n",
    "Devuelve el valor almacenado en `self.value`.\n",
    "- 2. `get_next_node()`:\n",
    "Devuelve el siguiente nodo almacenado en `self.next_node`."
   ]
  },
  {
   "cell_type": "code",
   "execution_count": 2,
   "id": "c9ee047d-e38f-4480-8897-7a0fe1257e70",
   "metadata": {},
   "outputs": [],
   "source": [
    "    def get_value(self): \n",
    "        return self.value\n",
    "\n",
    "    def get_next_node(self):\n",
    "        return self.next_node"
   ]
  },
  {
   "cell_type": "markdown",
   "id": "ba840c3b-396b-464a-b671-f9db48aa8bbb",
   "metadata": {},
   "source": [
    "## 3. Agregando un Setter\n",
    "\n",
    "1. Definimos un método `set_next_node()` para actualizar el valor de `next_node`:\n",
    "   - Acepta un parámetro `next_node` que puede ser:\n",
    "   `None`\n",
    "   - Una instancia de la clase `Node`\n",
    "   - Un diccionario (vacío o no vacío)\n",
    "2. Si `next_node` no es de un tipo válido:\n",
    "   - Se lanza un TypeError con el mensaje:\n",
    "   - \"next_node debe ser del tipo Node, dict, o None\".\n",
    "3. Si es válido, asigna el valor a `self.next_node`."
   ]
  },
  {
   "cell_type": "code",
   "execution_count": 3,
   "id": "306f0e45-f0cb-42e8-a629-838638ed7e82",
   "metadata": {},
   "outputs": [],
   "source": [
    "    def set_next_node(self, next_node):\n",
    "        if next_node is None or isinstance(next_node, Node) or isinstance(next_node, dict):\n",
    "            self.next_node = next_node\n",
    "        else:\n",
    "            raise TypeError(\"next_node debe ser del tipo Node, dict, o None\")"
   ]
  },
  {
   "cell_type": "markdown",
   "id": "a9fb3c3f-94c7-49cf-8656-b99f004b1221",
   "metadata": {},
   "source": [
    "<center>\n",
    "<img src=\"./img/get_set.jpeg\" width=\"800\"></img>\n",
    "</center>"
   ]
  },
  {
   "cell_type": "markdown",
   "id": "c4c56e9c-9b2e-4879-afd3-55e3ed5ee67c",
   "metadata": {},
   "source": [
    "## 4. Uso de la Clase `Node`\n",
    "\n",
    "En el archivo `Node_ejercicio.py`, se utiliza la clase `Node` para modelar una lista de tareas.\n",
    "\n",
    "1. Importar la clase Node:\n",
    "Desde `Node_sandbox`.\n",
    "2. Crear instancias de Node sin enlaces:\n",
    "- Tres nodos que representan tareas:\n",
    "  - tarea1: \"Comprar víveres\".\n",
    "  - tarea2: \"Estudiar para el examen\".\n",
    "  - tarea3: \"Hacer ejercicio\".\n",
    "3. Configurar relaciones entre nodos:\n",
    "- Asignar los enlaces a las intancias de la clase Node para establecer relaciones.\n",
    "4. Acceder y mostrar datos:\n",
    "- Utilizamos `get_value()` y `get_next_node()` para mostrar las tres tareas."
   ]
  },
  {
   "cell_type": "code",
   "execution_count": 5,
   "id": "8c331bfb-2b45-4f32-a61e-66df3215ecd2",
   "metadata": {},
   "outputs": [
    {
     "name": "stdout",
     "output_type": "stream",
     "text": [
      "Primer tarea: Comprar víveres\n",
      "Segunda tarea: Estudiar para el examen\n",
      "Tercer tarea: Hacer ejercicio\n"
     ]
    }
   ],
   "source": [
    "# Uso de la clase Node con tareas domesticas\n",
    "from Node_sandbox import Node\n",
    "\n",
    "# Creación de instancias  \n",
    "tarea1 = Node(\"Comprar víveres\", None)\n",
    "tarea2 = Node(\"Estudiar para el examen\", None)\n",
    "tarea3 = Node(\"Hacer ejercicio\", None)\n",
    "\n",
    "# Acceder a los valores y establecer relaciones\n",
    "tarea1.set_next_node(tarea2)\n",
    "tarea2.set_next_node(tarea3)\n",
    "\n",
    "# Imprimir los valores\n",
    "print(\"Primer tarea:\", tarea1.get_value())\n",
    "print(\"Segunda tarea:\", tarea1.get_next_node().get_value())\n",
    "print(\"Tercer tarea:\", tarea1.get_next_node().get_next_node().get_value())\n"
   ]
  },
  {
   "cell_type": "markdown",
   "id": "8fbbcdff-9217-4251-9c40-73d90054b8f8",
   "metadata": {},
   "source": [
    "<center>\n",
    "<img src=\"./img/nodes_ex1.jpeg\" width=\"550\"></img>\n",
    "</center>"
   ]
  }
 ],
 "metadata": {
  "kernelspec": {
   "display_name": "Python 3 (ipykernel)",
   "language": "python",
   "name": "python3"
  },
  "language_info": {
   "codemirror_mode": {
    "name": "ipython",
    "version": 3
   },
   "file_extension": ".py",
   "mimetype": "text/x-python",
   "name": "python",
   "nbconvert_exporter": "python",
   "pygments_lexer": "ipython3",
   "version": "3.12.7"
  }
 },
 "nbformat": 4,
 "nbformat_minor": 5
}
