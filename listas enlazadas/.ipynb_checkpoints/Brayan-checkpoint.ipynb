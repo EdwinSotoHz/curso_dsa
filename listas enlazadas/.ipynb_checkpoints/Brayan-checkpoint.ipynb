{
 "cells": [
  {
   "cell_type": "markdown",
   "id": "27c4d6aa-8cb5-4962-8d8c-51be3fa4be06",
   "metadata": {},
   "source": [
    "## 1.1 Lista Enlazada Simple\n",
    "\n",
    "Una lista enlazada simple es una estructura de datos lineal que organiza nodos de manera secuencial. Los nodos están conectados mediante enlaces unidireccionales, lo que significa que cada nodo tiene una referencia al siguiente nodo en la lista.\n",
    "\n",
    "<center>\n",
    "<img src=\"./img/linked_list.jpeg\" width=\"650\"></img>\n",
    "</center>\n",
    "\n",
    "---"
   ]
  },
  {
   "cell_type": "markdown",
   "id": "870bcb40-3fbf-4712-a5f0-09c9d5bf2608",
   "metadata": {},
   "source": [
    "### Características de Listas Enlazadas\n",
    "\n",
    "- **Composición**: Están formadas por nodos, donde cada nodo contiene datos y un enlace (o puntero) al siguiente nodo.\n",
    "- **Direccionalidad**: Los enlaces son unidireccionales, es decir, cada nodo apunta solo hacia el siguiente nodo de la lista.\n",
    "- **Estructura Básica**: Tienen un único nodo principal denominado `head`, que actúa como el punto de inicio de la lista.\n",
    "- **Mantenimiento**: Para agregar o eliminar nodos, es necesario gestionar adecuadamente los enlaces entre nodos.\n",
    "- **Tipos**: Pueden ser unidireccionales, donde cada nodo solo apunta hacia el siguiente, o bidireccionales (en listas doblemente enlazadas), donde los nodos tienen enlaces hacia el siguiente y el nodo anterior.\n",
    "- **Flexibilidad**: Su implementación varía según el caso de uso y el lenguaje de programación.\n",
    "\n",
    "<center>\n",
    "<img src=\"./img/features.jpeg\" width=\"750\"></img>\n",
    "</center>\n",
    "\n",
    "---"
   ]
  },
  {
   "cell_type": "markdown",
   "id": "e17346ac-4599-44fd-863d-d15168a3b185",
   "metadata": {},
   "source": [
    "### Operaciones Comunes\n",
    "\n",
    "Las operaciones más frecuentes que se realizan en una lista enlazada incluyen:\n",
    "\n",
    "- **Agregar Nodos**: Para insertar un nuevo nodo, se crea el nodo con el valor deseado y se ajustan los enlaces de los nodos adyacentes para integrarlo en la lista, ya sea al inicio o en otra posición específica.\n",
    "  \n",
    "- **Eliminar Nodos**: Para eliminar un nodo, se localiza el nodo que contiene el valor que se desea eliminar, y luego se ajustan los enlaces de los nodos circundantes para excluir el nodo eliminado, liberando así el espacio de memoria.\n",
    "\n",
    "- **Buscar un Nodo**: Esta operación recorre la lista desde el nodo principal (`head`) hasta encontrar el nodo con el valor deseado.\n",
    "\n",
    "- **Recorrer la Lista**: Consiste en visitar todos los nodos de la lista, generalmente para mostrar sus valores o realizar alguna operación en cada uno de ellos.\n",
    "\n",
    "---"
   ]
  },
  {
   "cell_type": "markdown",
   "id": "4b535522-167b-49f8-b735-e1b1164f0351",
   "metadata": {},
   "source": [
    "### Descripción de las Operaciones básicas para listas enlazadas \n",
    "\n",
    "- **Insertar al Principio**: Esta operación permite agregar un nodo al inicio de la lista. Para ello, se crea un nuevo nodo y se ajusta el enlace del nuevo nodo para que apunte al nodo que originalmente era el primer nodo de la lista (`head`). Luego, se actualiza el nodo `head` para que apunte al nuevo nodo, convirtiéndolo en el primer nodo de la lista.\n",
    "<center>\n",
    "<img src=\"./img/insert_beginning.jpeg\" width=\"600\"></img>\n",
    "</center>\n",
    "<br>\n",
    "\n",
    "- **Convertir a Cadena**: Esta operación recorre todos los nodos de la lista y, en cada uno, obtiene el valor almacenado. Los valores se concatenan en una cadena de texto, separados por saltos de línea. Al final, se retorna esta cadena que representa la lista.  \n",
    "<center>\n",
    "<img src=\"./img/stringify_list.jpeg\" width=\"700\"></img>\n",
    "</center>\n",
    "<br>\n",
    "\n",
    "\n",
    "- **Eliminar un Nodo**: Para eliminar un nodo que contiene un valor específico, se comienza desde el primer nodo y se recorre la lista. Si el nodo a eliminar es el primero, se actualiza el `head` para que apunte al siguiente nodo. Si el nodo a eliminar no es el primero, se busca el nodo previo al nodo a eliminar, se ajusta su enlace para que apunte al nodo siguiente del nodo eliminado, y luego se elimina el nodo de la lista.\n",
    "<center>\n",
    "<img src=\"./img/remove_node.jpeg\" width=\"780\"></img>\n",
    "</center>\n",
    "<br>\n",
    "\n",
    "\n",
    "- **Intercambiar Nodos**: Esta operación intercambia dos nodos de la lista que contienen valores específicos. Primero, se buscan los dos nodos en la lista. Una vez encontrados, se ajustan los enlaces de los nodos previos a los nodos a intercambiar para que apunten al nodo correcto después del intercambio. Luego, se intercambian los enlaces de los nodos seleccionados, de manera que cada uno apunte al siguiente nodo correspondiente. Si uno de los nodos no se encuentra en la lista, se muestra un mensaje de error indicando que el intercambio no puede realizarse.\n",
    "<center>\n",
    "<img src=\"./img/swap_nodes.jpeg\" width=\"950\"></img>\n",
    "</center>\n",
    "<br>\n",
    "\n",
    "---\n",
    "\n",
    "## Visión general de las listas enlazadas simples\n",
    "Las listas enlazadas son esenciales en el desarrollo de estructuras de datos eficientes, ya que permiten una manipulación dinámica de los elementos. Su capacidad para agregar, eliminar o reorganizar nodos sin la necesidad de reubicar otros elementos en memoria las convierte en una herramienta poderosa para optimizar diversos algoritmos y procesos."
   ]
  }
 ],
 "metadata": {
  "kernelspec": {
   "display_name": "Python 3 (ipykernel)",
   "language": "python",
   "name": "python3"
  },
  "language_info": {
   "codemirror_mode": {
    "name": "ipython",
    "version": 3
   },
   "file_extension": ".py",
   "mimetype": "text/x-python",
   "name": "python",
   "nbconvert_exporter": "python",
   "pygments_lexer": "ipython3",
   "version": "3.12.7"
  }
 },
 "nbformat": 4,
 "nbformat_minor": 5
}
