{
 "cells": [
  {
   "cell_type": "markdown",
   "id": "4433032c-cb55-42ac-80f3-0aa761c7a547",
   "metadata": {},
   "source": [
    "# Nodos en Estructuras de Datos\n",
    "\n",
    "En el contexto de las estructuras de datos, los **nodos** son unidades básicas que permiten construir y organizar información. Cada nodo consta de dos partes principales:\n",
    "\n",
    "1. **Datos:** Representan la información que almacena el nodo, como números, texto u objetos más complejos.\n",
    "2. **Enlaces:** También llamados **punteros**, son referencias que conectan el nodo con otros nodos dentro de la estructura.\n",
    "\n",
    "\n",
    "<center>\n",
    "<img src=\"./img/node.jpeg\" width=\"180\"></img>\n",
    "</center>\n",
    "\n",
    "---"
   ]
  },
  {
   "cell_type": "markdown",
   "id": "026b52d6-4f04-4b90-91d0-f196c2d81169",
   "metadata": {},
   "source": [
    "## Ejemplo de Nodo\n",
    "\n",
    "Considera un nodo denominado `Node_A`:\n",
    "\n",
    "- **Datos:** Contiene el valor **201**.\n",
    "- **Enlace:** Apunta hacia otro nodo llamado `Node_B`.\n",
    "\n",
    "Estos enlaces son esenciales para construir estructuras como listas enlazadas, árboles y grafos. Si un enlace es **nulo** (`null`), indica que no hay una conexión posterior, marcando el final de la ruta.   \n",
    "\n",
    "<center>\n",
    "<img src=\"./img/Node_A.jpeg\" width=\"180\"></img>\n",
    "</center>\n",
    "\n",
    "---"
   ]
  },
  {
   "cell_type": "markdown",
   "id": "39fa63b8-b6da-4126-b89e-5021c0ca8854",
   "metadata": {},
   "source": [
    "## Punteros: Detalle y Funcionalidad\n",
    "\n",
    "Los punteros son elementos fundamentales en muchas estructuras de datos debido a su capacidad para establecer relaciones dinámicas entre nodos. Aquí se presentan algunos aspectos clave de los punteros:\n",
    "\n",
    "1. **Definición y Propósito:**\n",
    "   - Un puntero es una referencia que almacena la dirección de memoria de otro nodo o elemento. \n",
    "   - Permite crear enlaces que conectan los nodos en estructuras como listas, árboles y grafos.\n",
    "   - Hacen que las estructuras de datos sean dinámicas, facilitando la inserción, eliminación y reorganización de nodos de manera eficiente.\n",
    "\n",
    "2. **Tipos de Punteros en Nodos:**\n",
    "   - **Puntero Sencillo:** Apunta a un único nodo, utilizado en listas enlazadas simples.\n",
    "   - **Puntero Doble:** Apunta a nodos anterior y siguiente, empleado en listas doblemente enlazadas.\n",
    "   - **Punteros Múltiples:** Pueden conectar un nodo con varios otros, como ocurre en los grafos o los árboles n-arios.\n",
    "\n",
    "<center>\n",
    "<img src=\"./img/pointers.jpeg\" width=\"850\"></img>\n",
    "</center>\n",
    "\n",
    "3. **Operaciones Comunes con Punteros:**\n",
    "   - **Asignación:** Establecer la dirección de un nodo en un puntero.\n",
    "   - **Desreferenciación:** Acceder al contenido del nodo al que apunta el puntero.\n",
    "   - **Actualización:** Cambiar el destino de un puntero para modificar la estructura de la conexión.\n",
    "\n",
    "4. **Problemas Comunes:**\n",
    "   - **Punteros Nulos:** Indican el final de una estructura, pero un manejo incorrecto puede causar errores como acceso a memoria no válida.\n",
    "   - **Punteros Débiles o Colgantes:** Surgen cuando un nodo referenciado por un puntero es eliminado sin actualizar el puntero, lo que lleva a inconsistencias.\n",
    "\n",
    "---"
   ]
  },
  {
   "cell_type": "markdown",
   "id": "d5e0b7c8-1ed8-44ff-97e5-e6168404de97",
   "metadata": {},
   "source": [
    "## Tipos de Nodos y Estructuras\n",
    "\n",
    "Los nodos se implementan de diversas maneras según el tipo de estructura de datos:\n",
    "\n",
    "1. **Nodo de Lista Enlazada:** Almacena datos y un enlace al siguiente nodo. En las listas doblemente enlazadas, también incluye un enlace al nodo anterior.\n",
    "2. **Nodo de Árbol:** Contiene datos y enlaces a sus nodos hijo, como los nodos izquierdo y derecho en un árbol binario.\n",
    "3. **Nodo de Grafo:** Puede tener múltiples enlaces que representan aristas hacia otros nodos del grafo.\n",
    "\n",
    "Estas implementaciones permiten crear estructuras complejas y flexibles para manejar datos.\n",
    "\n",
    "\n",
    "---"
   ]
  },
  {
   "cell_type": "markdown",
   "id": "668d72ae-6f66-429c-b1fb-b9b3b87a89fe",
   "metadata": {},
   "source": [
    "## Nodo Huérfano\n",
    "\n",
    "Un **nodo huérfano** es aquel que ha perdido su conexión con la estructura principal. Esto puede ocurrir en distintos escenarios:\n",
    "\n",
    "1. **Estructuras Jerárquicas:** Esto ocurre cuando el padre es eliminado o se pierde la referencia al nodo sin integrarlo adecuadamente en otro lugar de la jerarquía.\n",
    "\n",
    "2. **Estructuras Relacionales:** Esto sucede si se eliminan todas las aristas que lo conectan, dejándolo aislado del resto de la red.\n",
    "\n",
    "3. **Estructuras Lineales:** En listas enlazadas, un nodo se vuelve huérfano si se elimina sin ajustar correctamente los enlaces de los nodos adyacentes. Esto lo deja fuera de la lista y, aunque ya no está conectado, aún ocupa espacio en la memoria.\n",
    "\n",
    "<center>\n",
    "<img src=\"./img/orph_node.jpeg\" width=\"180\"></img>\n",
    "</center>\n",
    "\n",
    "\n",
    "Los nodos huérfanos son indeseables porque:\n",
    "- **Consumen recursos:** Permanecen en memoria sin ser utilizados.\n",
    "- **Generan inconsistencias:** Pueden causar errores lógicos en la estructura.\n",
    "- **Dificultan la gestión:** Complican la manipulación de la estructura de datos.\n",
    "\n",
    "---"
   ]
  },
  {
   "cell_type": "markdown",
   "id": "0fe01b1d-6fad-491b-a77e-3992d9519c04",
   "metadata": {},
   "source": [
    "## Vision general de los Nodos\n",
    "\n",
    "Los nodos son componentes esenciales de las estructuras de datos. \n",
    "\n",
    "- **Almacenan datos** y **mantienen conexiones** con otros nodos mediante enlaces.\n",
    "- Los **enlaces nulos** indican el final de una ruta.\n",
    "- La **gestión adecuada** de los nodos es crucial para evitar nodos huérfanos y mantener la consistencia y eficiencia de las estructuras.\n",
    "\n",
    "Comprender los nodos y su papel en las estructuras de datos es fundamental para diseñar y optimizar algoritmos eficaces. Los nodos no solo almacenan datos, sino que también definen la estructura y conectividad de las colecciones de datos. Su correcta gestión asegura un uso eficiente de la memoria y mantiene la consistencia en las estructuras. Además, el manejo adecuado de punteros es clave para evitar fugas de memoria."
   ]
  }
 ],
 "metadata": {
  "kernelspec": {
   "display_name": "Python 3 (ipykernel)",
   "language": "python",
   "name": "python3"
  },
  "language_info": {
   "codemirror_mode": {
    "name": "ipython",
    "version": 3
   },
   "file_extension": ".py",
   "mimetype": "text/x-python",
   "name": "python",
   "nbconvert_exporter": "python",
   "pygments_lexer": "ipython3",
   "version": "3.12.7"
  }
 },
 "nbformat": 4,
 "nbformat_minor": 5
}
