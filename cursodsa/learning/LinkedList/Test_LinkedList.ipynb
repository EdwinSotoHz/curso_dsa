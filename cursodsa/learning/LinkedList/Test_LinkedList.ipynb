{
 "cells": [
  {
   "cell_type": "code",
   "execution_count": 12,
   "id": "dbbe3121-7cf8-4936-b4e0-e3e3751b1023",
   "metadata": {},
   "outputs": [
    {
     "name": "stdout",
     "output_type": "stream",
     "text": [
      "None\n",
      "nodo1\n"
     ]
    }
   ],
   "source": [
    "from LinkedList_sandbox import LinkedList\n",
    "\n",
    "ll = LinkedList()\n",
    "head_node = ll.get_head_node()\n",
    "print(head_node)\n",
    "\n",
    "ll.insert_beginning('nodo1')\n",
    "head_node = ll.get_head_node().value\n",
    "print(head_node)"
   ]
  }
 ],
 "metadata": {
  "kernelspec": {
   "display_name": "Python 3 (ipykernel)",
   "language": "python",
   "name": "python3"
  },
  "language_info": {
   "codemirror_mode": {
    "name": "ipython",
    "version": 3
   },
   "file_extension": ".py",
   "mimetype": "text/x-python",
   "name": "python",
   "nbconvert_exporter": "python",
   "pygments_lexer": "ipython3",
   "version": "3.12.7"
  }
 },
 "nbformat": 4,
 "nbformat_minor": 5
}
