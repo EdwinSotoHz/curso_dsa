{
 "cells": [
  {
   "cell_type": "code",
   "execution_count": 1,
   "id": "f17b8a92-4ca1-40cb-a50b-38c4a651b7ca",
   "metadata": {},
   "outputs": [
    {
     "name": "stdout",
     "output_type": "stream",
     "text": [
      "jqnc\n",
      "hola\n"
     ]
    }
   ],
   "source": [
    "def caesar_CipherN(strMessage, n):\n",
    "    alph = ['a', 'b', 'c', 'd', 'e', 'f', 'g', 'h', 'i', 'j', 'k', 'l', 'm', 'n', 'ñ', 'o', 'p', 'q', 'r', 's', 't', 'u', 'v', 'w', 'x', 'y', 'z', ' ']\n",
    "    \n",
    "    c_message = \"\"\n",
    "    for c in strMessage:\n",
    "        c_i = alph.index(c) \n",
    "        c = (c_i + n) % len(alph)  \n",
    "        c_message = c_message + alph[c]\n",
    "    return c_message\n",
    "    \n",
    "print(caesar_CipherN(\"hola\", 2))\n",
    "print(caesar_CipherN(\"jqnc\", -2))"
   ]
  },
  {
   "cell_type": "code",
   "execution_count": 4,
   "id": "51a975a3-05f7-4584-ba54-8e2a45c29511",
   "metadata": {},
   "outputs": [
    {
     "name": "stdout",
     "output_type": "stream",
     "text": [
      "jqnc\n",
      "hola\n"
     ]
    }
   ],
   "source": [
    "from CaesarCipher import Caesar_Cipher\n",
    "\n",
    "def caesar_cipher_linked_list(strMessage, n):\n",
    "    alph = ['a', 'b', 'c', 'd', 'e', 'f', 'g', 'h', 'i', 'j', 'k', 'l', 'm', 'n', 'ñ', 'o', 'p', 'q', 'r', 's', 't', 'u', 'v', 'w', 'x', 'y', 'z', ' ']\n",
    "    alphabet_list = Caesar_Cipher()\n",
    "    for letter in alph:\n",
    "        alphabet_list.add_to_tail(letter)\n",
    "\n",
    "    ciphered_message = \"\"\n",
    "\n",
    "    for c in strMessage:\n",
    "        node_i = alphabet_list.find_node(c)\n",
    "        new_node = alphabet_list.move_node(node_i, n)\n",
    "        ciphered_message += new_node.value\n",
    "    return ciphered_message\n",
    "\n",
    "print(caesar_cipher_linked_list(\"hola\", 2))\n",
    "print(caesar_cipher_linked_list(\"jqnc\", -2))"
   ]
  }
 ],
 "metadata": {
  "kernelspec": {
   "display_name": "Python 3 (ipykernel)",
   "language": "python",
   "name": "python3"
  },
  "language_info": {
   "codemirror_mode": {
    "name": "ipython",
    "version": 3
   },
   "file_extension": ".py",
   "mimetype": "text/x-python",
   "name": "python",
   "nbconvert_exporter": "python",
   "pygments_lexer": "ipython3",
   "version": "3.12.7"
  }
 },
 "nbformat": 4,
 "nbformat_minor": 5
}
