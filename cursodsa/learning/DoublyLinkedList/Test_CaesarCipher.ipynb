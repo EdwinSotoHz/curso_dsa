{
 "cells": [
  {
   "cell_type": "code",
   "execution_count": 1,
   "id": "f17b8a92-4ca1-40cb-a50b-38c4a651b7ca",
   "metadata": {},
   "outputs": [
    {
     "name": "stdout",
     "output_type": "stream",
     "text": [
      "jqnc\n",
      "hola\n"
     ]
    }
   ],
   "source": [
    "def caesar_CipherN(strMessage, n):\n",
    "    alph = ['a', 'b', 'c', 'd', 'e', 'f', 'g', 'h', 'i', 'j', 'k', 'l', 'm', 'n', 'ñ', 'o', 'p', 'q', 'r', 's', 't', 'u', 'v', 'w', 'x', 'y', 'z', ' ']\n",
    "    \n",
    "    c_message = \"\"\n",
    "    for c in strMessage:\n",
    "        c_i = alph.index(c) \n",
    "        c = (c_i + n) % len(alph)  \n",
    "        c_message = c_message + alph[c]\n",
    "    return c_message\n",
    "    \n",
    "print(caesar_CipherN(\"hola\", 2))\n",
    "print(caesar_CipherN(\"jqnc\", -2))"
   ]
  },
  {
   "cell_type": "code",
   "execution_count": 2,
   "id": "51a975a3-05f7-4584-ba54-8e2a45c29511",
   "metadata": {},
   "outputs": [
    {
     "name": "stdout",
     "output_type": "stream",
     "text": [
      "owsi\n",
      "bjfv\n",
      "\n",
      "bjfv\n",
      "ckgw\n",
      "dlhx\n",
      "emiy\n",
      "fnjz\n",
      "gñk \n",
      "hola\n",
      "ipmb\n",
      "jqnc\n",
      "krñd\n",
      "lsoe\n",
      "mtpf\n",
      "nuqg\n",
      "ñvrh\n",
      "owsi\n",
      "pxtj\n",
      "qyuk\n",
      "rzvl\n",
      "s wm\n",
      "taxn\n",
      "ubyñ\n",
      "vczo\n",
      "wd p\n",
      "xeaq\n",
      "yfbr\n",
      "zgcs\n",
      " hdt\n",
      "aieu\n",
      "bjfv\n"
     ]
    }
   ],
   "source": [
    "from DoublyLinkedListModified import DoublyLinkedLis_Modified\n",
    "\n",
    "dll_inst = DoublyLinkedLis_Modified()\n",
    "\n",
    "message = dll_inst.caesar_cipher(\"hola\", 8)\n",
    "c_message = dll_inst.caesar_cipher(\"jqnc\", -8)\n",
    "print(message)\n",
    "print(c_message)\n",
    "print()\n",
    "\n",
    "dll_inst.brute_force_attack(c_message, 29)"
   ]
  }
 ],
 "metadata": {
  "kernelspec": {
   "display_name": "Python 3 (ipykernel)",
   "language": "python",
   "name": "python3"
  },
  "language_info": {
   "codemirror_mode": {
    "name": "ipython",
    "version": 3
   },
   "file_extension": ".py",
   "mimetype": "text/x-python",
   "name": "python",
   "nbconvert_exporter": "python",
   "pygments_lexer": "ipython3",
   "version": "3.12.7"
  }
 },
 "nbformat": 4,
 "nbformat_minor": 5
}
