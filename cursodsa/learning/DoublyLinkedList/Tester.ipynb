{
 "cells": [
  {
   "cell_type": "code",
   "execution_count": 2,
   "id": "9b9d2d52-b53b-42b1-8a55-59b6c15fcd29",
   "metadata": {},
   "outputs": [
    {
     "name": "stdout",
     "output_type": "stream",
     "text": [
      "1 <-> 2 <-> 3 <-> 3 <-> 4 <-> 5 <-> 5 <-> 5\n",
      "5 <-> 5 <-> 5 <-> 4 <-> 3 <-> 3 <-> 2 <-> 1\n",
      "1 <-> 2 <-> 3 <-> 3 <-> 4 <-> 5 <-> 5 <-> 5\n",
      "agregado\n",
      "agregado :D\n",
      "agregado\n",
      "agregado\n",
      "0 <-> 1 <-> 2 <-> 2 <-> 3 <-> 3 <-> 4 <-> 5 <-> 5 <-> 5 <-> 5.5 <-> 6\n",
      "0 <-> 2 <-> 2 <-> 3 <-> 3 <-> 4 <-> 5 <-> 5 <-> 5 <-> 5.5 <-> 6\n",
      "4\n"
     ]
    }
   ],
   "source": [
    "from MoreFunctions import DoublyLinkedLis_MoreFunctions\n",
    "\n",
    "dll_inst = DoublyLinkedLis_MoreFunctions()\n",
    "\n",
    "dll_inst.add_to_tail(1)\n",
    "dll_inst.add_to_tail(2)\n",
    "dll_inst.add_to_tail(3)\n",
    "dll_inst.add_to_tail(3)\n",
    "dll_inst.add_to_tail(4)\n",
    "dll_inst.add_to_tail(5)\n",
    "dll_inst.add_to_tail(5)\n",
    "dll_inst.add_to_tail(5)\n",
    "\n",
    "dll_inst.show_dll()\n",
    "\n",
    "dll_inst.reverse()\n",
    "dll_inst.show_dll()\n",
    "dll_inst.reverse()\n",
    "dll_inst.show_dll()\n",
    "\n",
    "print(dll_inst.insert_in_order(0))\n",
    "print(dll_inst.insert_in_order(2))\n",
    "print(dll_inst.insert_in_order(5.5))\n",
    "print(dll_inst.insert_in_order(6))\n",
    "dll_inst.show_dll()\n",
    "\n",
    "dll_inst.remove_all(1)\n",
    "dll_inst.show_dll()\n",
    "\n",
    "print(dll_inst.find_middle())"
   ]
  }
 ],
 "metadata": {
  "kernelspec": {
   "display_name": "Python 3 (ipykernel)",
   "language": "python",
   "name": "python3"
  },
  "language_info": {
   "codemirror_mode": {
    "name": "ipython",
    "version": 3
   },
   "file_extension": ".py",
   "mimetype": "text/x-python",
   "name": "python",
   "nbconvert_exporter": "python",
   "pygments_lexer": "ipython3",
   "version": "3.12.7"
  }
 },
 "nbformat": 4,
 "nbformat_minor": 5
}
